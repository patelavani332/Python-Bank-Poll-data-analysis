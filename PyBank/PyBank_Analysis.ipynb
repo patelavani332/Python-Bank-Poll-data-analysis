{
 "cells": [
  {
   "cell_type": "code",
   "execution_count": 9,
   "id": "2e7f5f24",
   "metadata": {},
   "outputs": [
    {
     "name": "stdout",
     "output_type": "stream",
     "text": [
      "Financial Analysis\n",
      "----------------------------\n",
      "Total months : 86\n",
      "Total : $22564198\n",
      "Average change : $-8311.11\n",
      "Greatest Increase in Profits: Aug-16 ($1862002)\n",
      "Greatest Decrease in Profits: Feb-14 ($-1825558)\n",
      "\n"
     ]
    }
   ],
   "source": [
    "import os\n",
    "import csv\n",
    "\n",
    "budget_csv = os.path.join(\".\", \"Resources\",\"budget_data.csv\")\n",
    "\n",
    "profit_loss = []\n",
    "change = []\n",
    "month = []\n",
    "greatest_increase = 0\n",
    "greatest_decrease = 0\n",
    "best_month = ''\n",
    "worst_month = ''\n",
    "\n",
    "with open(budget_csv) as csvfile:\n",
    "    csvreader = csv.reader(csvfile, delimiter = \",\")\n",
    "    \n",
    "    csv_header = next(csvreader)\n",
    "          \n",
    "    total_months = 0\n",
    "        \n",
    "    for row in csvreader:\n",
    "        total_months += 1                        # to count total months\n",
    "        profit_loss.append(int(row[1]))      # to create a list of all profit/loss\n",
    "        month.append(row[0])                 # to create a lsit of all months\n",
    "           \n",
    "    total = sum (profit_loss)                # to calculate total profit/loss \n",
    "        \n",
    "    change = [profit_loss[i+1] - profit_loss[i] for i in range(0,len(profit_loss)-1)]      # to calculate the change in profit/loss over entire period\n",
    "    total_change = sum(change)                     # calculate total change\n",
    "    \n",
    "    average = round(total_change/len(change),2)     # calculate average of total change\n",
    "       \n",
    "    maximum = max(change)                         # to find the greatest increase in the profits\n",
    "    \n",
    "    minimum = min(change)                         # to find the greatest decrease in the profits\n",
    "              \n",
    "    max_index = change.index(maximum)             # to find the index number of the greatest increase in profit\n",
    "    max_month = month[max_index+1]                # to map the month with the greatest increase in profit\n",
    "        \n",
    "    min_index = change.index(minimum)             # to find the index number of the greatest increase in profit\n",
    "    min_month = month[min_index+1]                # to map the month with the greatest decrease in profit  \n",
    "    \n",
    "analysisOutput = (f\"Financial Analysis\\n\"\n",
    "                  f\"----------------------------\\n\"\n",
    "                  f\"Total months : {total_months}\\n\"\n",
    "                  f\"Total : ${total}\\n\"\n",
    "                  f\"Average change : ${average}\\n\"\n",
    "                  f\"Greatest Increase in Profits: {max_month} (${maximum})\\n\"\n",
    "                  f\"Greatest Decrease in Profits: {min_month} (${minimum})\\n\"\n",
    ")\n",
    "\n",
    "#--- print analysis output to terminal ---\n",
    "print(analysisOutput)\n",
    "\n",
    "financial_analysis = os.path.join(\".\",\"analysis\",\"financial_analysis.txt\")\n",
    "\n",
    "#- -- create a text file with the analysis output ---\n",
    "with open(financial_analysis, 'w') as textfile:\n",
    "    textfile.write(analysisOutput)"
   ]
  },
  {
   "cell_type": "code",
   "execution_count": null,
   "id": "178f2eb2",
   "metadata": {},
   "outputs": [],
   "source": []
  }
 ],
 "metadata": {
  "kernelspec": {
   "display_name": "Python 3 (ipykernel)",
   "language": "python",
   "name": "python3"
  },
  "language_info": {
   "codemirror_mode": {
    "name": "ipython",
    "version": 3
   },
   "file_extension": ".py",
   "mimetype": "text/x-python",
   "name": "python",
   "nbconvert_exporter": "python",
   "pygments_lexer": "ipython3",
   "version": "3.9.13"
  }
 },
 "nbformat": 4,
 "nbformat_minor": 5
}
